{
 "cells": [
  {
   "cell_type": "code",
   "execution_count": 2,
   "metadata": {},
   "outputs": [
    {
     "name": "stdout",
     "output_type": "stream",
     "text": [
      "Requirement already satisfied: xgboost in c:\\users\\harsh\\anaconda3\\lib\\site-packages (1.2.1)\n",
      "Requirement already satisfied: numpy in c:\\users\\harsh\\anaconda3\\lib\\site-packages (from xgboost) (1.18.1)\n",
      "Requirement already satisfied: scipy in c:\\users\\harsh\\anaconda3\\lib\\site-packages (from xgboost) (1.4.1)\n"
     ]
    }
   ],
   "source": [
    "import sys\n",
    "!{sys.executable} -m pip install xgboost"
   ]
  },
  {
   "cell_type": "code",
   "execution_count": 27,
   "metadata": {},
   "outputs": [
    {
     "name": "stdout",
     "output_type": "stream",
     "text": [
      "Collecting bayesian-optimization\n",
      "  Downloading bayesian-optimization-1.2.0.tar.gz (14 kB)\n",
      "Requirement already satisfied: numpy>=1.9.0 in c:\\users\\harsh\\anaconda3\\lib\\site-packages (from bayesian-optimization) (1.18.1)\n",
      "Requirement already satisfied: scipy>=0.14.0 in c:\\users\\harsh\\anaconda3\\lib\\site-packages (from bayesian-optimization) (1.4.1)\n",
      "Requirement already satisfied: scikit-learn>=0.18.0 in c:\\users\\harsh\\anaconda3\\lib\\site-packages (from bayesian-optimization) (0.22.1)\n",
      "Requirement already satisfied: joblib>=0.11 in c:\\users\\harsh\\anaconda3\\lib\\site-packages (from scikit-learn>=0.18.0->bayesian-optimization) (0.14.1)\n",
      "Building wheels for collected packages: bayesian-optimization\n",
      "  Building wheel for bayesian-optimization (setup.py): started\n",
      "  Building wheel for bayesian-optimization (setup.py): finished with status 'done'\n",
      "  Created wheel for bayesian-optimization: filename=bayesian_optimization-1.2.0-py3-none-any.whl size=11689 sha256=82fb21daa160f984eba8b7a31b28e0d382fef90f4f7bf894eca43a4f62e4c3a3\n",
      "  Stored in directory: c:\\users\\harsh\\appdata\\local\\pip\\cache\\wheels\\fd\\9b\\71\\f127d694e02eb40bcf18c7ae9613b88a6be4470f57a8528c5b\n",
      "Successfully built bayesian-optimization\n",
      "Installing collected packages: bayesian-optimization\n",
      "Successfully installed bayesian-optimization-1.2.0\n",
      "Note: you may need to restart the kernel to use updated packages.\n"
     ]
    }
   ],
   "source": [
    "pip install bayesian-optimization"
   ]
  },
  {
   "cell_type": "code",
   "execution_count": 100,
   "metadata": {},
   "outputs": [],
   "source": [
    "import pandas as pd\n",
    "import numpy as np\n",
    "from sklearn.model_selection import train_test_split\n",
    "import xgboost as xgb\n",
    "from xgboost import XGBClassifier\n",
    "from sklearn import svm\n",
    "from sklearn.metrics import accuracy_score\n",
    "from bayes_opt import BayesianOptimization\n",
    "from sklearn.metrics import mean_squared_error\n",
    "from sklearn.metrics import roc_auc_score\n",
    "from sklearn.metrics import confusion_matrix,classification_report"
   ]
  },
  {
   "cell_type": "markdown",
   "metadata": {},
   "source": [
    "## loading the data."
   ]
  },
  {
   "cell_type": "code",
   "execution_count": 95,
   "metadata": {},
   "outputs": [],
   "source": [
    "data=pd.read_csv(\"xboost.csv\")"
   ]
  },
  {
   "cell_type": "code",
   "execution_count": 68,
   "metadata": {},
   "outputs": [
    {
     "data": {
      "text/html": [
       "<div>\n",
       "<style scoped>\n",
       "    .dataframe tbody tr th:only-of-type {\n",
       "        vertical-align: middle;\n",
       "    }\n",
       "\n",
       "    .dataframe tbody tr th {\n",
       "        vertical-align: top;\n",
       "    }\n",
       "\n",
       "    .dataframe thead th {\n",
       "        text-align: right;\n",
       "    }\n",
       "</style>\n",
       "<table border=\"1\" class=\"dataframe\">\n",
       "  <thead>\n",
       "    <tr style=\"text-align: right;\">\n",
       "      <th></th>\n",
       "      <th>course_id</th>\n",
       "      <th>thread_id</th>\n",
       "      <th>no_of_posts</th>\n",
       "      <th>no_of_comments</th>\n",
       "      <th>no_uni_users</th>\n",
       "      <th>no_of_anonymous_msg</th>\n",
       "      <th>staff_replied</th>\n",
       "      <th>no of msgs</th>\n",
       "      <th>avg_num_words</th>\n",
       "      <th>max_words</th>\n",
       "      <th>avg_resp_time</th>\n",
       "      <th>first_post_day</th>\n",
       "      <th>msg_rate</th>\n",
       "      <th>u_chain</th>\n",
       "      <th>index_longest_post</th>\n",
       "      <th>num_views</th>\n",
       "      <th>votes</th>\n",
       "      <th>votes_Square</th>\n",
       "      <th>index_max_votes</th>\n",
       "      <th>forum_id</th>\n",
       "    </tr>\n",
       "  </thead>\n",
       "  <tbody>\n",
       "    <tr>\n",
       "      <th>0</th>\n",
       "      <td>analysenumerique-001</td>\n",
       "      <td>2</td>\n",
       "      <td>9.0</td>\n",
       "      <td>2.0</td>\n",
       "      <td>5.0</td>\n",
       "      <td>2.0</td>\n",
       "      <td>0.0</td>\n",
       "      <td>11.0</td>\n",
       "      <td>12.454545</td>\n",
       "      <td>31.0</td>\n",
       "      <td>-152871.727273</td>\n",
       "      <td>2</td>\n",
       "      <td>1.359260e+09</td>\n",
       "      <td>True</td>\n",
       "      <td>4</td>\n",
       "      <td>277</td>\n",
       "      <td>2</td>\n",
       "      <td>4</td>\n",
       "      <td>0</td>\n",
       "      <td>10</td>\n",
       "    </tr>\n",
       "    <tr>\n",
       "      <th>1</th>\n",
       "      <td>analysenumerique-001</td>\n",
       "      <td>2</td>\n",
       "      <td>9.0</td>\n",
       "      <td>2.0</td>\n",
       "      <td>5.0</td>\n",
       "      <td>2.0</td>\n",
       "      <td>0.0</td>\n",
       "      <td>11.0</td>\n",
       "      <td>12.454545</td>\n",
       "      <td>31.0</td>\n",
       "      <td>-152871.727273</td>\n",
       "      <td>2</td>\n",
       "      <td>1.359260e+09</td>\n",
       "      <td>True</td>\n",
       "      <td>4</td>\n",
       "      <td>277</td>\n",
       "      <td>0</td>\n",
       "      <td>0</td>\n",
       "      <td>0</td>\n",
       "      <td>10</td>\n",
       "    </tr>\n",
       "    <tr>\n",
       "      <th>2</th>\n",
       "      <td>analysenumerique-001</td>\n",
       "      <td>2</td>\n",
       "      <td>9.0</td>\n",
       "      <td>2.0</td>\n",
       "      <td>5.0</td>\n",
       "      <td>2.0</td>\n",
       "      <td>0.0</td>\n",
       "      <td>11.0</td>\n",
       "      <td>12.454545</td>\n",
       "      <td>31.0</td>\n",
       "      <td>-152871.727273</td>\n",
       "      <td>2</td>\n",
       "      <td>1.359260e+09</td>\n",
       "      <td>True</td>\n",
       "      <td>4</td>\n",
       "      <td>277</td>\n",
       "      <td>1</td>\n",
       "      <td>1</td>\n",
       "      <td>0</td>\n",
       "      <td>10</td>\n",
       "    </tr>\n",
       "    <tr>\n",
       "      <th>3</th>\n",
       "      <td>analysenumerique-001</td>\n",
       "      <td>2</td>\n",
       "      <td>9.0</td>\n",
       "      <td>2.0</td>\n",
       "      <td>5.0</td>\n",
       "      <td>2.0</td>\n",
       "      <td>0.0</td>\n",
       "      <td>11.0</td>\n",
       "      <td>12.454545</td>\n",
       "      <td>31.0</td>\n",
       "      <td>-152871.727273</td>\n",
       "      <td>2</td>\n",
       "      <td>1.359260e+09</td>\n",
       "      <td>True</td>\n",
       "      <td>4</td>\n",
       "      <td>277</td>\n",
       "      <td>0</td>\n",
       "      <td>0</td>\n",
       "      <td>0</td>\n",
       "      <td>10</td>\n",
       "    </tr>\n",
       "    <tr>\n",
       "      <th>4</th>\n",
       "      <td>analysenumerique-001</td>\n",
       "      <td>2</td>\n",
       "      <td>9.0</td>\n",
       "      <td>2.0</td>\n",
       "      <td>5.0</td>\n",
       "      <td>2.0</td>\n",
       "      <td>0.0</td>\n",
       "      <td>11.0</td>\n",
       "      <td>12.454545</td>\n",
       "      <td>31.0</td>\n",
       "      <td>-152871.727273</td>\n",
       "      <td>2</td>\n",
       "      <td>1.359260e+09</td>\n",
       "      <td>True</td>\n",
       "      <td>4</td>\n",
       "      <td>277</td>\n",
       "      <td>0</td>\n",
       "      <td>0</td>\n",
       "      <td>0</td>\n",
       "      <td>10</td>\n",
       "    </tr>\n",
       "  </tbody>\n",
       "</table>\n",
       "</div>"
      ],
      "text/plain": [
       "              course_id  thread_id  no_of_posts  no_of_comments  no_uni_users  \\\n",
       "0  analysenumerique-001          2          9.0             2.0           5.0   \n",
       "1  analysenumerique-001          2          9.0             2.0           5.0   \n",
       "2  analysenumerique-001          2          9.0             2.0           5.0   \n",
       "3  analysenumerique-001          2          9.0             2.0           5.0   \n",
       "4  analysenumerique-001          2          9.0             2.0           5.0   \n",
       "\n",
       "   no_of_anonymous_msg  staff_replied  no of msgs  avg_num_words  max_words  \\\n",
       "0                  2.0            0.0        11.0      12.454545       31.0   \n",
       "1                  2.0            0.0        11.0      12.454545       31.0   \n",
       "2                  2.0            0.0        11.0      12.454545       31.0   \n",
       "3                  2.0            0.0        11.0      12.454545       31.0   \n",
       "4                  2.0            0.0        11.0      12.454545       31.0   \n",
       "\n",
       "   avg_resp_time  first_post_day      msg_rate  u_chain  index_longest_post  \\\n",
       "0 -152871.727273               2  1.359260e+09     True                   4   \n",
       "1 -152871.727273               2  1.359260e+09     True                   4   \n",
       "2 -152871.727273               2  1.359260e+09     True                   4   \n",
       "3 -152871.727273               2  1.359260e+09     True                   4   \n",
       "4 -152871.727273               2  1.359260e+09     True                   4   \n",
       "\n",
       "   num_views  votes  votes_Square  index_max_votes  forum_id  \n",
       "0        277      2             4                0        10  \n",
       "1        277      0             0                0        10  \n",
       "2        277      1             1                0        10  \n",
       "3        277      0             0                0        10  \n",
       "4        277      0             0                0        10  "
      ]
     },
     "execution_count": 68,
     "metadata": {},
     "output_type": "execute_result"
    }
   ],
   "source": [
    "data.head()"
   ]
  },
  {
   "cell_type": "markdown",
   "metadata": {},
   "source": [
    "## Droping unwanted coloumns"
   ]
  },
  {
   "cell_type": "code",
   "execution_count": 96,
   "metadata": {},
   "outputs": [],
   "source": [
    "final_data=data.drop('course_id', axis=1)"
   ]
  },
  {
   "cell_type": "markdown",
   "metadata": {},
   "source": [
    "## dividing data set to testing and training sets"
   ]
  },
  {
   "cell_type": "code",
   "execution_count": 97,
   "metadata": {},
   "outputs": [
    {
     "data": {
      "text/html": [
       "<div>\n",
       "<style scoped>\n",
       "    .dataframe tbody tr th:only-of-type {\n",
       "        vertical-align: middle;\n",
       "    }\n",
       "\n",
       "    .dataframe tbody tr th {\n",
       "        vertical-align: top;\n",
       "    }\n",
       "\n",
       "    .dataframe thead th {\n",
       "        text-align: right;\n",
       "    }\n",
       "</style>\n",
       "<table border=\"1\" class=\"dataframe\">\n",
       "  <thead>\n",
       "    <tr style=\"text-align: right;\">\n",
       "      <th></th>\n",
       "      <th>thread_id</th>\n",
       "      <th>no_of_posts</th>\n",
       "      <th>no_of_comments</th>\n",
       "      <th>no_uni_users</th>\n",
       "      <th>no_of_anonymous_msg</th>\n",
       "      <th>staff_replied</th>\n",
       "      <th>no of msgs</th>\n",
       "      <th>avg_num_words</th>\n",
       "      <th>max_words</th>\n",
       "      <th>avg_resp_time</th>\n",
       "      <th>first_post_day</th>\n",
       "      <th>msg_rate</th>\n",
       "      <th>u_chain</th>\n",
       "      <th>index_longest_post</th>\n",
       "      <th>num_views</th>\n",
       "      <th>votes</th>\n",
       "      <th>votes_Square</th>\n",
       "      <th>index_max_votes</th>\n",
       "    </tr>\n",
       "  </thead>\n",
       "  <tbody>\n",
       "    <tr>\n",
       "      <th>299806</th>\n",
       "      <td>6675</td>\n",
       "      <td>22.0</td>\n",
       "      <td>10.0</td>\n",
       "      <td>28.0</td>\n",
       "      <td>4.0</td>\n",
       "      <td>0.0</td>\n",
       "      <td>32.0</td>\n",
       "      <td>60.937500</td>\n",
       "      <td>315.0</td>\n",
       "      <td>-116637.250000</td>\n",
       "      <td>1</td>\n",
       "      <td>1.368940e+09</td>\n",
       "      <td>True</td>\n",
       "      <td>299803</td>\n",
       "      <td>569</td>\n",
       "      <td>0</td>\n",
       "      <td>0</td>\n",
       "      <td>299775</td>\n",
       "    </tr>\n",
       "    <tr>\n",
       "      <th>153696</th>\n",
       "      <td>18</td>\n",
       "      <td>18.0</td>\n",
       "      <td>12.0</td>\n",
       "      <td>19.0</td>\n",
       "      <td>0.0</td>\n",
       "      <td>0.0</td>\n",
       "      <td>30.0</td>\n",
       "      <td>45.400000</td>\n",
       "      <td>103.0</td>\n",
       "      <td>-107214.200000</td>\n",
       "      <td>3</td>\n",
       "      <td>1.365688e+09</td>\n",
       "      <td>True</td>\n",
       "      <td>153708</td>\n",
       "      <td>260</td>\n",
       "      <td>1</td>\n",
       "      <td>1</td>\n",
       "      <td>153680</td>\n",
       "    </tr>\n",
       "    <tr>\n",
       "      <th>629484</th>\n",
       "      <td>439</td>\n",
       "      <td>7.0</td>\n",
       "      <td>1.0</td>\n",
       "      <td>5.0</td>\n",
       "      <td>0.0</td>\n",
       "      <td>0.0</td>\n",
       "      <td>8.0</td>\n",
       "      <td>83.250000</td>\n",
       "      <td>401.0</td>\n",
       "      <td>-236928.000000</td>\n",
       "      <td>1</td>\n",
       "      <td>1.382590e+09</td>\n",
       "      <td>True</td>\n",
       "      <td>629484</td>\n",
       "      <td>272</td>\n",
       "      <td>4</td>\n",
       "      <td>16</td>\n",
       "      <td>629484</td>\n",
       "    </tr>\n",
       "    <tr>\n",
       "      <th>359718</th>\n",
       "      <td>2509</td>\n",
       "      <td>31.0</td>\n",
       "      <td>6.0</td>\n",
       "      <td>33.0</td>\n",
       "      <td>2.0</td>\n",
       "      <td>0.0</td>\n",
       "      <td>37.0</td>\n",
       "      <td>99.000000</td>\n",
       "      <td>224.0</td>\n",
       "      <td>-16255.972973</td>\n",
       "      <td>0</td>\n",
       "      <td>1.367934e+09</td>\n",
       "      <td>True</td>\n",
       "      <td>359718</td>\n",
       "      <td>132</td>\n",
       "      <td>1</td>\n",
       "      <td>1</td>\n",
       "      <td>359710</td>\n",
       "    </tr>\n",
       "    <tr>\n",
       "      <th>639718</th>\n",
       "      <td>344</td>\n",
       "      <td>28.0</td>\n",
       "      <td>15.0</td>\n",
       "      <td>20.0</td>\n",
       "      <td>0.0</td>\n",
       "      <td>0.0</td>\n",
       "      <td>43.0</td>\n",
       "      <td>45.744186</td>\n",
       "      <td>210.0</td>\n",
       "      <td>-40776.395349</td>\n",
       "      <td>1</td>\n",
       "      <td>1.372209e+09</td>\n",
       "      <td>True</td>\n",
       "      <td>639721</td>\n",
       "      <td>305</td>\n",
       "      <td>0</td>\n",
       "      <td>0</td>\n",
       "      <td>639710</td>\n",
       "    </tr>\n",
       "  </tbody>\n",
       "</table>\n",
       "</div>"
      ],
      "text/plain": [
       "        thread_id  no_of_posts  no_of_comments  no_uni_users  \\\n",
       "299806       6675         22.0            10.0          28.0   \n",
       "153696         18         18.0            12.0          19.0   \n",
       "629484        439          7.0             1.0           5.0   \n",
       "359718       2509         31.0             6.0          33.0   \n",
       "639718        344         28.0            15.0          20.0   \n",
       "\n",
       "        no_of_anonymous_msg  staff_replied  no of msgs  avg_num_words  \\\n",
       "299806                  4.0            0.0        32.0      60.937500   \n",
       "153696                  0.0            0.0        30.0      45.400000   \n",
       "629484                  0.0            0.0         8.0      83.250000   \n",
       "359718                  2.0            0.0        37.0      99.000000   \n",
       "639718                  0.0            0.0        43.0      45.744186   \n",
       "\n",
       "        max_words  avg_resp_time  first_post_day      msg_rate  u_chain  \\\n",
       "299806      315.0 -116637.250000               1  1.368940e+09     True   \n",
       "153696      103.0 -107214.200000               3  1.365688e+09     True   \n",
       "629484      401.0 -236928.000000               1  1.382590e+09     True   \n",
       "359718      224.0  -16255.972973               0  1.367934e+09     True   \n",
       "639718      210.0  -40776.395349               1  1.372209e+09     True   \n",
       "\n",
       "        index_longest_post  num_views  votes  votes_Square  index_max_votes  \n",
       "299806              299803        569      0             0           299775  \n",
       "153696              153708        260      1             1           153680  \n",
       "629484              629484        272      4            16           629484  \n",
       "359718              359718        132      1             1           359710  \n",
       "639718              639721        305      0             0           639710  "
      ]
     },
     "execution_count": 97,
     "metadata": {},
     "output_type": "execute_result"
    }
   ],
   "source": [
    "x=final_data.drop('forum_id', axis=1)\n",
    "y=final_data.forum_id\n",
    "x_train,x_test,y_train,y_test=train_test_split(x,y,test_size=0.2)\n",
    "x_train.head()"
   ]
  },
  {
   "cell_type": "markdown",
   "metadata": {},
   "source": [
    "## calling the XGboost classifier:"
   ]
  },
  {
   "cell_type": "code",
   "execution_count": 71,
   "metadata": {},
   "outputs": [],
   "source": [
    "model = XGBClassifier()"
   ]
  },
  {
   "cell_type": "markdown",
   "metadata": {},
   "source": [
    "## fitting the model"
   ]
  },
  {
   "cell_type": "code",
   "execution_count": 72,
   "metadata": {},
   "outputs": [
    {
     "data": {
      "text/plain": [
       "XGBClassifier(base_score=0.5, booster='gbtree', colsample_bylevel=1,\n",
       "              colsample_bynode=1, colsample_bytree=1, gamma=0, gpu_id=-1,\n",
       "              importance_type='gain', interaction_constraints='',\n",
       "              learning_rate=0.300000012, max_delta_step=0, max_depth=6,\n",
       "              min_child_weight=1, missing=nan, monotone_constraints='()',\n",
       "              n_estimators=100, n_jobs=0, num_parallel_tree=1,\n",
       "              objective='multi:softprob', random_state=0, reg_alpha=0,\n",
       "              reg_lambda=1, scale_pos_weight=None, subsample=1,\n",
       "              tree_method='exact', validate_parameters=1, verbosity=None)"
      ]
     },
     "execution_count": 72,
     "metadata": {},
     "output_type": "execute_result"
    }
   ],
   "source": [
    "model.fit(x_train,y_train)"
   ]
  },
  {
   "cell_type": "code",
   "execution_count": 73,
   "metadata": {},
   "outputs": [],
   "source": [
    "predict = model.predict(x_test)"
   ]
  },
  {
   "cell_type": "markdown",
   "metadata": {},
   "source": [
    "## checking the Model accuracy:"
   ]
  },
  {
   "cell_type": "code",
   "execution_count": 74,
   "metadata": {},
   "outputs": [
    {
     "data": {
      "text/plain": [
       "0.8348273179311978"
      ]
     },
     "execution_count": 74,
     "metadata": {},
     "output_type": "execute_result"
    }
   ],
   "source": [
    "accuracy_test = accuracy_score(y_test,predict)\n",
    "accuracy_test"
   ]
  },
  {
   "cell_type": "markdown",
   "metadata": {},
   "source": [
    "## confusion matrix and classification report:"
   ]
  },
  {
   "cell_type": "code",
   "execution_count": 102,
   "metadata": {},
   "outputs": [
    {
     "name": "stdout",
     "output_type": "stream",
     "text": [
      "[[ 7891 10327  2908   407  4837   443  7707]\n",
      " [ 9001 11624  3301   503  5458   507  8469]\n",
      " [ 2830  3759  1048   154  1826   161  2804]\n",
      " [  829  1088   310    49   538    54   798]\n",
      " [ 5201  6659  1745   285  3032   285  4927]\n",
      " [  828  1106   306    55   480    51   806]\n",
      " [ 7338  9837  2683   415  4485   418  7242]]\n",
      "              precision    recall  f1-score   support\n",
      "\n",
      "           2       0.23      0.23      0.23     34520\n",
      "           3       0.26      0.30      0.28     38863\n",
      "           4       0.09      0.08      0.08     12582\n",
      "           7       0.03      0.01      0.02      3666\n",
      "           8       0.15      0.14      0.14     22134\n",
      "           9       0.03      0.01      0.02      3632\n",
      "          10       0.22      0.22      0.22     32418\n",
      "\n",
      "    accuracy                           0.21    147815\n",
      "   macro avg       0.14      0.14      0.14    147815\n",
      "weighted avg       0.20      0.21      0.21    147815\n",
      "\n"
     ]
    }
   ],
   "source": [
    "print(confusion_matrix(y_test,predict))\n",
    "print(classification_report(y_test,predict))"
   ]
  },
  {
   "cell_type": "markdown",
   "metadata": {},
   "source": [
    "## Perform Hyper-parameter tuning on XGBoost"
   ]
  },
  {
   "cell_type": "code",
   "execution_count": 79,
   "metadata": {},
   "outputs": [],
   "source": [
    "def tuning_function(n_estimators ,learning_rate):\n",
    "     params = {'n_estimators': int(n_estimators),\n",
    "              'learning_rate':learning_rate,\n",
    "              'subsample': 0.8,\n",
    "              'eta': 0.1,\n",
    "              'eval_metric': 'rmse',\n",
    "             'max_depth':int(4),\n",
    "             'min_child_weight':6,\n",
    "             'gamma':0,\n",
    "             'subsample':0.8,\n",
    "             'colsample_bytree':0.8,\n",
    "             'reg_alpha':0.005,\n",
    "             'objective': 'logistic',\n",
    "             'nthread':4,\n",
    "             'seed':27,\n",
    "             'eta':0.1}"
   ]
  },
  {
   "cell_type": "code",
   "execution_count": 80,
   "metadata": {},
   "outputs": [],
   "source": [
    "bayes = BayesianOptimization(tuning_function, {'n_estimators':(500,1000),\n",
    "                                            'learning_rate':(0,0.5)\n",
    "                                            })"
   ]
  },
  {
   "cell_type": "code",
   "execution_count": 81,
   "metadata": {},
   "outputs": [
    {
     "ename": "KeyError",
     "evalue": "'params'",
     "output_type": "error",
     "traceback": [
      "\u001b[1;31m---------------------------------------------------------------------------\u001b[0m",
      "\u001b[1;31mKeyError\u001b[0m                                  Traceback (most recent call last)",
      "\u001b[1;32m<ipython-input-81-d0db50bcb6ec>\u001b[0m in \u001b[0;36m<module>\u001b[1;34m\u001b[0m\n\u001b[1;32m----> 1\u001b[1;33m \u001b[0mparams\u001b[0m \u001b[1;33m=\u001b[0m \u001b[0mbayes\u001b[0m\u001b[1;33m.\u001b[0m\u001b[0mmax\u001b[0m\u001b[1;33m[\u001b[0m\u001b[1;34m'params'\u001b[0m\u001b[1;33m]\u001b[0m\u001b[1;33m\u001b[0m\u001b[1;33m\u001b[0m\u001b[0m\n\u001b[0m\u001b[0;32m      2\u001b[0m \u001b[0mparams\u001b[0m\u001b[1;33m[\u001b[0m\u001b[1;34m'n_estimators'\u001b[0m\u001b[1;33m]\u001b[0m\u001b[1;33m=\u001b[0m \u001b[0mint\u001b[0m\u001b[1;33m(\u001b[0m\u001b[0mparams\u001b[0m\u001b[1;33m[\u001b[0m\u001b[1;34m'n_estimators'\u001b[0m\u001b[1;33m]\u001b[0m\u001b[1;33m)\u001b[0m\u001b[1;33m\u001b[0m\u001b[1;33m\u001b[0m\u001b[0m\n",
      "\u001b[1;31mKeyError\u001b[0m: 'params'"
     ]
    }
   ],
   "source": [
    "params = bayes.max['params']\n",
    "params['n_estimators']= int(params['n_estimators'])"
   ]
  },
  {
   "cell_type": "code",
   "execution_count": null,
   "metadata": {},
   "outputs": [],
   "source": []
  }
 ],
 "metadata": {
  "kernelspec": {
   "display_name": "Python 3",
   "language": "python",
   "name": "python3"
  },
  "language_info": {
   "codemirror_mode": {
    "name": "ipython",
    "version": 3
   },
   "file_extension": ".py",
   "mimetype": "text/x-python",
   "name": "python",
   "nbconvert_exporter": "python",
   "pygments_lexer": "ipython3",
   "version": "3.7.6"
  }
 },
 "nbformat": 4,
 "nbformat_minor": 4
}
