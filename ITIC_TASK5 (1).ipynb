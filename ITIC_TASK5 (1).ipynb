{
 "cells": [
  {
   "cell_type": "code",
   "execution_count": 1,
   "metadata": {},
   "outputs": [
    {
     "name": "stdout",
     "output_type": "stream",
     "text": [
      "Requirement already satisfied: xgboost in c:\\users\\harsh\\anaconda3\\lib\\site-packages (1.2.1)\n",
      "Requirement already satisfied: scipy in c:\\users\\harsh\\anaconda3\\lib\\site-packages (from xgboost) (1.4.1)\n",
      "Requirement already satisfied: numpy in c:\\users\\harsh\\anaconda3\\lib\\site-packages (from xgboost) (1.18.1)\n"
     ]
    }
   ],
   "source": [
    "import sys\n",
    "!{sys.executable} -m pip install xgboost"
   ]
  },
  {
   "cell_type": "code",
   "execution_count": 2,
   "metadata": {},
   "outputs": [
    {
     "name": "stdout",
     "output_type": "stream",
     "text": [
      "Requirement already satisfied: bayesian-optimization in c:\\users\\harsh\\anaconda3\\lib\\site-packages (1.2.0)\n",
      "Requirement already satisfied: scikit-learn>=0.18.0 in c:\\users\\harsh\\anaconda3\\lib\\site-packages (from bayesian-optimization) (0.22.1)\n",
      "Requirement already satisfied: numpy>=1.9.0 in c:\\users\\harsh\\anaconda3\\lib\\site-packages (from bayesian-optimization) (1.18.1)\n",
      "Requirement already satisfied: scipy>=0.14.0 in c:\\users\\harsh\\anaconda3\\lib\\site-packages (from bayesian-optimization) (1.4.1)\n",
      "Requirement already satisfied: joblib>=0.11 in c:\\users\\harsh\\anaconda3\\lib\\site-packages (from scikit-learn>=0.18.0->bayesian-optimization) (0.14.1)\n",
      "Note: you may need to restart the kernel to use updated packages.\n"
     ]
    }
   ],
   "source": [
    "pip install bayesian-optimization"
   ]
  },
  {
   "cell_type": "code",
   "execution_count": 23,
   "metadata": {},
   "outputs": [],
   "source": [
    "import pandas as pd\n",
    "import numpy as np\n",
    "from sklearn.model_selection import train_test_split\n",
    "import xgboost as xgb\n",
    "from xgboost import XGBClassifier\n",
    "from sklearn import svm\n",
    "from sklearn.metrics import accuracy_score\n",
    "from bayes_opt import BayesianOptimization\n",
    "from sklearn.metrics import mean_squared_error\n",
    "from sklearn.metrics import roc_auc_score\n",
    "from sklearn.metrics import confusion_matrix,classification_report\n",
    "from sklearn.metrics import precision_score, recall_score, accuracy_score"
   ]
  },
  {
   "cell_type": "markdown",
   "metadata": {},
   "source": [
    "## loading the data."
   ]
  },
  {
   "cell_type": "code",
   "execution_count": 4,
   "metadata": {},
   "outputs": [],
   "source": [
    "data=pd.read_csv(\"xboost.csv\")"
   ]
  },
  {
   "cell_type": "code",
   "execution_count": 5,
   "metadata": {},
   "outputs": [
    {
     "data": {
      "text/html": [
       "<div>\n",
       "<style scoped>\n",
       "    .dataframe tbody tr th:only-of-type {\n",
       "        vertical-align: middle;\n",
       "    }\n",
       "\n",
       "    .dataframe tbody tr th {\n",
       "        vertical-align: top;\n",
       "    }\n",
       "\n",
       "    .dataframe thead th {\n",
       "        text-align: right;\n",
       "    }\n",
       "</style>\n",
       "<table border=\"1\" class=\"dataframe\">\n",
       "  <thead>\n",
       "    <tr style=\"text-align: right;\">\n",
       "      <th></th>\n",
       "      <th>course_id</th>\n",
       "      <th>thread_id</th>\n",
       "      <th>no_of_posts</th>\n",
       "      <th>no_of_comments</th>\n",
       "      <th>no_uni_users</th>\n",
       "      <th>no_of_anonymous_msg</th>\n",
       "      <th>staff_replied</th>\n",
       "      <th>no of msgs</th>\n",
       "      <th>avg_num_words</th>\n",
       "      <th>max_words</th>\n",
       "      <th>avg_resp_time</th>\n",
       "      <th>first_post_day</th>\n",
       "      <th>msg_rate</th>\n",
       "      <th>u_chain</th>\n",
       "      <th>index_longest_post</th>\n",
       "      <th>num_views</th>\n",
       "      <th>votes</th>\n",
       "      <th>votes_Square</th>\n",
       "      <th>index_max_votes</th>\n",
       "      <th>forum_id</th>\n",
       "    </tr>\n",
       "  </thead>\n",
       "  <tbody>\n",
       "    <tr>\n",
       "      <th>0</th>\n",
       "      <td>analysenumerique-001</td>\n",
       "      <td>2</td>\n",
       "      <td>9.0</td>\n",
       "      <td>2.0</td>\n",
       "      <td>5.0</td>\n",
       "      <td>2.0</td>\n",
       "      <td>0.0</td>\n",
       "      <td>11.0</td>\n",
       "      <td>12.454545</td>\n",
       "      <td>31.0</td>\n",
       "      <td>-152871.727273</td>\n",
       "      <td>2</td>\n",
       "      <td>1.359260e+09</td>\n",
       "      <td>True</td>\n",
       "      <td>4</td>\n",
       "      <td>277</td>\n",
       "      <td>2</td>\n",
       "      <td>4</td>\n",
       "      <td>0</td>\n",
       "      <td>10</td>\n",
       "    </tr>\n",
       "    <tr>\n",
       "      <th>1</th>\n",
       "      <td>analysenumerique-001</td>\n",
       "      <td>2</td>\n",
       "      <td>9.0</td>\n",
       "      <td>2.0</td>\n",
       "      <td>5.0</td>\n",
       "      <td>2.0</td>\n",
       "      <td>0.0</td>\n",
       "      <td>11.0</td>\n",
       "      <td>12.454545</td>\n",
       "      <td>31.0</td>\n",
       "      <td>-152871.727273</td>\n",
       "      <td>2</td>\n",
       "      <td>1.359260e+09</td>\n",
       "      <td>True</td>\n",
       "      <td>4</td>\n",
       "      <td>277</td>\n",
       "      <td>0</td>\n",
       "      <td>0</td>\n",
       "      <td>0</td>\n",
       "      <td>10</td>\n",
       "    </tr>\n",
       "    <tr>\n",
       "      <th>2</th>\n",
       "      <td>analysenumerique-001</td>\n",
       "      <td>2</td>\n",
       "      <td>9.0</td>\n",
       "      <td>2.0</td>\n",
       "      <td>5.0</td>\n",
       "      <td>2.0</td>\n",
       "      <td>0.0</td>\n",
       "      <td>11.0</td>\n",
       "      <td>12.454545</td>\n",
       "      <td>31.0</td>\n",
       "      <td>-152871.727273</td>\n",
       "      <td>2</td>\n",
       "      <td>1.359260e+09</td>\n",
       "      <td>True</td>\n",
       "      <td>4</td>\n",
       "      <td>277</td>\n",
       "      <td>1</td>\n",
       "      <td>1</td>\n",
       "      <td>0</td>\n",
       "      <td>10</td>\n",
       "    </tr>\n",
       "    <tr>\n",
       "      <th>3</th>\n",
       "      <td>analysenumerique-001</td>\n",
       "      <td>2</td>\n",
       "      <td>9.0</td>\n",
       "      <td>2.0</td>\n",
       "      <td>5.0</td>\n",
       "      <td>2.0</td>\n",
       "      <td>0.0</td>\n",
       "      <td>11.0</td>\n",
       "      <td>12.454545</td>\n",
       "      <td>31.0</td>\n",
       "      <td>-152871.727273</td>\n",
       "      <td>2</td>\n",
       "      <td>1.359260e+09</td>\n",
       "      <td>True</td>\n",
       "      <td>4</td>\n",
       "      <td>277</td>\n",
       "      <td>0</td>\n",
       "      <td>0</td>\n",
       "      <td>0</td>\n",
       "      <td>10</td>\n",
       "    </tr>\n",
       "    <tr>\n",
       "      <th>4</th>\n",
       "      <td>analysenumerique-001</td>\n",
       "      <td>2</td>\n",
       "      <td>9.0</td>\n",
       "      <td>2.0</td>\n",
       "      <td>5.0</td>\n",
       "      <td>2.0</td>\n",
       "      <td>0.0</td>\n",
       "      <td>11.0</td>\n",
       "      <td>12.454545</td>\n",
       "      <td>31.0</td>\n",
       "      <td>-152871.727273</td>\n",
       "      <td>2</td>\n",
       "      <td>1.359260e+09</td>\n",
       "      <td>True</td>\n",
       "      <td>4</td>\n",
       "      <td>277</td>\n",
       "      <td>0</td>\n",
       "      <td>0</td>\n",
       "      <td>0</td>\n",
       "      <td>10</td>\n",
       "    </tr>\n",
       "  </tbody>\n",
       "</table>\n",
       "</div>"
      ],
      "text/plain": [
       "              course_id  thread_id  no_of_posts  no_of_comments  no_uni_users  \\\n",
       "0  analysenumerique-001          2          9.0             2.0           5.0   \n",
       "1  analysenumerique-001          2          9.0             2.0           5.0   \n",
       "2  analysenumerique-001          2          9.0             2.0           5.0   \n",
       "3  analysenumerique-001          2          9.0             2.0           5.0   \n",
       "4  analysenumerique-001          2          9.0             2.0           5.0   \n",
       "\n",
       "   no_of_anonymous_msg  staff_replied  no of msgs  avg_num_words  max_words  \\\n",
       "0                  2.0            0.0        11.0      12.454545       31.0   \n",
       "1                  2.0            0.0        11.0      12.454545       31.0   \n",
       "2                  2.0            0.0        11.0      12.454545       31.0   \n",
       "3                  2.0            0.0        11.0      12.454545       31.0   \n",
       "4                  2.0            0.0        11.0      12.454545       31.0   \n",
       "\n",
       "   avg_resp_time  first_post_day      msg_rate  u_chain  index_longest_post  \\\n",
       "0 -152871.727273               2  1.359260e+09     True                   4   \n",
       "1 -152871.727273               2  1.359260e+09     True                   4   \n",
       "2 -152871.727273               2  1.359260e+09     True                   4   \n",
       "3 -152871.727273               2  1.359260e+09     True                   4   \n",
       "4 -152871.727273               2  1.359260e+09     True                   4   \n",
       "\n",
       "   num_views  votes  votes_Square  index_max_votes  forum_id  \n",
       "0        277      2             4                0        10  \n",
       "1        277      0             0                0        10  \n",
       "2        277      1             1                0        10  \n",
       "3        277      0             0                0        10  \n",
       "4        277      0             0                0        10  "
      ]
     },
     "execution_count": 5,
     "metadata": {},
     "output_type": "execute_result"
    }
   ],
   "source": [
    "data.head()"
   ]
  },
  {
   "cell_type": "markdown",
   "metadata": {},
   "source": [
    "## Droping unwanted coloumns"
   ]
  },
  {
   "cell_type": "code",
   "execution_count": 6,
   "metadata": {},
   "outputs": [],
   "source": [
    "final_data=data.drop('course_id', axis=1)"
   ]
  },
  {
   "cell_type": "markdown",
   "metadata": {},
   "source": [
    "## dividing data set to testing and training sets"
   ]
  },
  {
   "cell_type": "code",
   "execution_count": 7,
   "metadata": {},
   "outputs": [
    {
     "data": {
      "text/html": [
       "<div>\n",
       "<style scoped>\n",
       "    .dataframe tbody tr th:only-of-type {\n",
       "        vertical-align: middle;\n",
       "    }\n",
       "\n",
       "    .dataframe tbody tr th {\n",
       "        vertical-align: top;\n",
       "    }\n",
       "\n",
       "    .dataframe thead th {\n",
       "        text-align: right;\n",
       "    }\n",
       "</style>\n",
       "<table border=\"1\" class=\"dataframe\">\n",
       "  <thead>\n",
       "    <tr style=\"text-align: right;\">\n",
       "      <th></th>\n",
       "      <th>thread_id</th>\n",
       "      <th>no_of_posts</th>\n",
       "      <th>no_of_comments</th>\n",
       "      <th>no_uni_users</th>\n",
       "      <th>no_of_anonymous_msg</th>\n",
       "      <th>staff_replied</th>\n",
       "      <th>no of msgs</th>\n",
       "      <th>avg_num_words</th>\n",
       "      <th>max_words</th>\n",
       "      <th>avg_resp_time</th>\n",
       "      <th>first_post_day</th>\n",
       "      <th>msg_rate</th>\n",
       "      <th>u_chain</th>\n",
       "      <th>index_longest_post</th>\n",
       "      <th>num_views</th>\n",
       "      <th>votes</th>\n",
       "      <th>votes_Square</th>\n",
       "      <th>index_max_votes</th>\n",
       "    </tr>\n",
       "  </thead>\n",
       "  <tbody>\n",
       "    <tr>\n",
       "      <th>629328</th>\n",
       "      <td>403</td>\n",
       "      <td>12.0</td>\n",
       "      <td>1.0</td>\n",
       "      <td>10.0</td>\n",
       "      <td>1.0</td>\n",
       "      <td>0.0</td>\n",
       "      <td>13.0</td>\n",
       "      <td>82.538462</td>\n",
       "      <td>315.0</td>\n",
       "      <td>-142308.230769</td>\n",
       "      <td>6</td>\n",
       "      <td>1.382776e+09</td>\n",
       "      <td>True</td>\n",
       "      <td>629333</td>\n",
       "      <td>245</td>\n",
       "      <td>1</td>\n",
       "      <td>1</td>\n",
       "      <td>629322</td>\n",
       "    </tr>\n",
       "    <tr>\n",
       "      <th>209453</th>\n",
       "      <td>10</td>\n",
       "      <td>99.0</td>\n",
       "      <td>101.0</td>\n",
       "      <td>105.0</td>\n",
       "      <td>1.0</td>\n",
       "      <td>0.0</td>\n",
       "      <td>200.0</td>\n",
       "      <td>34.985000</td>\n",
       "      <td>436.0</td>\n",
       "      <td>-22294.550000</td>\n",
       "      <td>0</td>\n",
       "      <td>1.378351e+09</td>\n",
       "      <td>True</td>\n",
       "      <td>209555</td>\n",
       "      <td>1263</td>\n",
       "      <td>0</td>\n",
       "      <td>0</td>\n",
       "      <td>209366</td>\n",
       "    </tr>\n",
       "    <tr>\n",
       "      <th>470097</th>\n",
       "      <td>99</td>\n",
       "      <td>7.0</td>\n",
       "      <td>1.0</td>\n",
       "      <td>6.0</td>\n",
       "      <td>1.0</td>\n",
       "      <td>1.0</td>\n",
       "      <td>8.0</td>\n",
       "      <td>63.125000</td>\n",
       "      <td>188.0</td>\n",
       "      <td>-51883.250000</td>\n",
       "      <td>3</td>\n",
       "      <td>1.384468e+09</td>\n",
       "      <td>True</td>\n",
       "      <td>470102</td>\n",
       "      <td>66</td>\n",
       "      <td>0</td>\n",
       "      <td>0</td>\n",
       "      <td>470102</td>\n",
       "    </tr>\n",
       "    <tr>\n",
       "      <th>312530</th>\n",
       "      <td>8510</td>\n",
       "      <td>6.0</td>\n",
       "      <td>2.0</td>\n",
       "      <td>4.0</td>\n",
       "      <td>4.0</td>\n",
       "      <td>0.0</td>\n",
       "      <td>8.0</td>\n",
       "      <td>52.750000</td>\n",
       "      <td>101.0</td>\n",
       "      <td>-6424.250000</td>\n",
       "      <td>6</td>\n",
       "      <td>1.371433e+09</td>\n",
       "      <td>True</td>\n",
       "      <td>312534</td>\n",
       "      <td>133</td>\n",
       "      <td>0</td>\n",
       "      <td>0</td>\n",
       "      <td>312527</td>\n",
       "    </tr>\n",
       "    <tr>\n",
       "      <th>710434</th>\n",
       "      <td>5</td>\n",
       "      <td>456.0</td>\n",
       "      <td>318.0</td>\n",
       "      <td>587.0</td>\n",
       "      <td>15.0</td>\n",
       "      <td>5.0</td>\n",
       "      <td>774.0</td>\n",
       "      <td>87.306202</td>\n",
       "      <td>882.0</td>\n",
       "      <td>-5228.273902</td>\n",
       "      <td>2</td>\n",
       "      <td>1.380931e+09</td>\n",
       "      <td>True</td>\n",
       "      <td>710833</td>\n",
       "      <td>5796</td>\n",
       "      <td>1</td>\n",
       "      <td>1</td>\n",
       "      <td>710425</td>\n",
       "    </tr>\n",
       "  </tbody>\n",
       "</table>\n",
       "</div>"
      ],
      "text/plain": [
       "        thread_id  no_of_posts  no_of_comments  no_uni_users  \\\n",
       "629328        403         12.0             1.0          10.0   \n",
       "209453         10         99.0           101.0         105.0   \n",
       "470097         99          7.0             1.0           6.0   \n",
       "312530       8510          6.0             2.0           4.0   \n",
       "710434          5        456.0           318.0         587.0   \n",
       "\n",
       "        no_of_anonymous_msg  staff_replied  no of msgs  avg_num_words  \\\n",
       "629328                  1.0            0.0        13.0      82.538462   \n",
       "209453                  1.0            0.0       200.0      34.985000   \n",
       "470097                  1.0            1.0         8.0      63.125000   \n",
       "312530                  4.0            0.0         8.0      52.750000   \n",
       "710434                 15.0            5.0       774.0      87.306202   \n",
       "\n",
       "        max_words  avg_resp_time  first_post_day      msg_rate  u_chain  \\\n",
       "629328      315.0 -142308.230769               6  1.382776e+09     True   \n",
       "209453      436.0  -22294.550000               0  1.378351e+09     True   \n",
       "470097      188.0  -51883.250000               3  1.384468e+09     True   \n",
       "312530      101.0   -6424.250000               6  1.371433e+09     True   \n",
       "710434      882.0   -5228.273902               2  1.380931e+09     True   \n",
       "\n",
       "        index_longest_post  num_views  votes  votes_Square  index_max_votes  \n",
       "629328              629333        245      1             1           629322  \n",
       "209453              209555       1263      0             0           209366  \n",
       "470097              470102         66      0             0           470102  \n",
       "312530              312534        133      0             0           312527  \n",
       "710434              710833       5796      1             1           710425  "
      ]
     },
     "execution_count": 7,
     "metadata": {},
     "output_type": "execute_result"
    }
   ],
   "source": [
    "x=final_data.drop('forum_id', axis=1)\n",
    "y=final_data.forum_id\n",
    "x_train,x_test,y_train,y_test=train_test_split(x,y,test_size=0.2)\n",
    "x_train.head()"
   ]
  },
  {
   "cell_type": "markdown",
   "metadata": {},
   "source": [
    "## calling the XGboost classifier:"
   ]
  },
  {
   "cell_type": "code",
   "execution_count": 8,
   "metadata": {},
   "outputs": [],
   "source": [
    "model = XGBClassifier()"
   ]
  },
  {
   "cell_type": "markdown",
   "metadata": {},
   "source": [
    "## fitting the model"
   ]
  },
  {
   "cell_type": "code",
   "execution_count": 9,
   "metadata": {},
   "outputs": [
    {
     "data": {
      "text/plain": [
       "XGBClassifier(base_score=0.5, booster='gbtree', colsample_bylevel=1,\n",
       "              colsample_bynode=1, colsample_bytree=1, gamma=0, gpu_id=-1,\n",
       "              importance_type='gain', interaction_constraints='',\n",
       "              learning_rate=0.300000012, max_delta_step=0, max_depth=6,\n",
       "              min_child_weight=1, missing=nan, monotone_constraints='()',\n",
       "              n_estimators=100, n_jobs=0, num_parallel_tree=1,\n",
       "              objective='multi:softprob', random_state=0, reg_alpha=0,\n",
       "              reg_lambda=1, scale_pos_weight=None, subsample=1,\n",
       "              tree_method='exact', validate_parameters=1, verbosity=None)"
      ]
     },
     "execution_count": 9,
     "metadata": {},
     "output_type": "execute_result"
    }
   ],
   "source": [
    "model.fit(x_train,y_train)"
   ]
  },
  {
   "cell_type": "code",
   "execution_count": 10,
   "metadata": {},
   "outputs": [],
   "source": [
    "predict = model.predict(x_test)"
   ]
  },
  {
   "cell_type": "markdown",
   "metadata": {},
   "source": [
    "## checking the Model accuracy:"
   ]
  },
  {
   "cell_type": "code",
   "execution_count": 11,
   "metadata": {},
   "outputs": [
    {
     "data": {
      "text/plain": [
       "0.8360247606805804"
      ]
     },
     "execution_count": 11,
     "metadata": {},
     "output_type": "execute_result"
    }
   ],
   "source": [
    "accuracy_test = accuracy_score(y_test,predict)\n",
    "accuracy_test"
   ]
  },
  {
   "cell_type": "markdown",
   "metadata": {},
   "source": [
    "## confusion matrix and classification report:"
   ]
  },
  {
   "cell_type": "code",
   "execution_count": 12,
   "metadata": {},
   "outputs": [
    {
     "name": "stdout",
     "output_type": "stream",
     "text": [
      "[[27791  4003   192    22  1676    82   958]\n",
      " [ 1465 35056    50    20  1075    41   751]\n",
      " [  357   123 11537     5   186     9   307]\n",
      " [  595   580    26  1746   433    32   318]\n",
      " [ 2364  2965    54    28 16045    77   670]\n",
      " [  635   579    40    19   343  1715   350]\n",
      " [  928  1097   120    44   614     5 29687]]\n",
      "              precision    recall  f1-score   support\n",
      "\n",
      "           2       0.81      0.80      0.81     34724\n",
      "           3       0.79      0.91      0.85     38458\n",
      "           4       0.96      0.92      0.94     12524\n",
      "           7       0.93      0.47      0.62      3730\n",
      "           8       0.79      0.72      0.75     22203\n",
      "           9       0.87      0.47      0.61      3681\n",
      "          10       0.90      0.91      0.91     32495\n",
      "\n",
      "    accuracy                           0.84    147815\n",
      "   macro avg       0.86      0.74      0.78    147815\n",
      "weighted avg       0.84      0.84      0.83    147815\n",
      "\n"
     ]
    }
   ],
   "source": [
    "print(confusion_matrix(y_test,predict))\n",
    "print(classification_report(y_test,predict))"
   ]
  },
  {
   "cell_type": "markdown",
   "metadata": {},
   "source": [
    "## Performing Hyper-parameter tuning on XGBoost"
   ]
  },
  {
   "cell_type": "code",
   "execution_count": 13,
   "metadata": {},
   "outputs": [],
   "source": [
    "pbounds = {\n",
    "    'learning_rate': (0.01, 1.0),\n",
    "    'n_estimators': (100, 1000),\n",
    "    'max_depth': (3,10),\n",
    "    'subsample': (1.0, 1.0),  \n",
    "    'colsample': (1.0, 1.0),   \n",
    "    'gamma': (0, 5)}\n"
   ]
  },
  {
   "cell_type": "code",
   "execution_count": 14,
   "metadata": {},
   "outputs": [],
   "source": [
    "def xgboost_hyper_param(learning_rate,\n",
    "                        n_estimators,\n",
    "                        max_depth,\n",
    "                        subsample,\n",
    "                        colsample,\n",
    "                        gamma):\n",
    "    max_depth = int(max_depth)\n",
    "    n_estimators = int(n_estimators)\n",
    "    clf = XGBClassifier(\n",
    "        max_depth=max_depth,\n",
    "        learning_rate=learning_rate,\n",
    "        n_estimators=n_estimators,\n",
    "        gamma=gamma)\n",
    "    return np.mean(cross_val_score(clf, x_train, y_train, cv=3, scoring='roc_auc'))"
   ]
  },
  {
   "cell_type": "code",
   "execution_count": 15,
   "metadata": {},
   "outputs": [],
   "source": [
    "optimizer = BayesianOptimization(\n",
    "    f=xgboost_hyper_param,\n",
    "    pbounds=pbounds,\n",
    "    random_state=1,\n",
    ")"
   ]
  },
  {
   "cell_type": "markdown",
   "metadata": {},
   "source": [
    "## fitting the model"
   ]
  },
  {
   "cell_type": "code",
   "execution_count": 17,
   "metadata": {},
   "outputs": [],
   "source": [
    "tuning = xgb.XGBClassifier(optimizer).fit(x_train, y_train)"
   ]
  },
  {
   "cell_type": "code",
   "execution_count": 19,
   "metadata": {},
   "outputs": [],
   "source": [
    "prediction= tuning.predict(x_test)"
   ]
  },
  {
   "cell_type": "code",
   "execution_count": 25,
   "metadata": {},
   "outputs": [
    {
     "name": "stdout",
     "output_type": "stream",
     "text": [
      "Precision = 0.864419787122434\n",
      "Recall = 0.7433300447819315\n",
      "Accuracy = 0.8360247606805804\n"
     ]
    }
   ],
   "source": [
    "print(\"Precision = {}\".format(precision_score(y_test, prediction, average='macro')))\n",
    "print(\"Recall = {}\".format(recall_score(y_test, prediction, average='macro')))\n",
    "print(\"Accuracy = {}\".format(accuracy_score(y_test, prediction)))"
   ]
  },
  {
   "cell_type": "code",
   "execution_count": null,
   "metadata": {},
   "outputs": [],
   "source": []
  }
 ],
 "metadata": {
  "kernelspec": {
   "display_name": "Python 3",
   "language": "python",
   "name": "python3"
  },
  "language_info": {
   "codemirror_mode": {
    "name": "ipython",
    "version": 3
   },
   "file_extension": ".py",
   "mimetype": "text/x-python",
   "name": "python",
   "nbconvert_exporter": "python",
   "pygments_lexer": "ipython3",
   "version": "3.7.6"
  }
 },
 "nbformat": 4,
 "nbformat_minor": 4
}
